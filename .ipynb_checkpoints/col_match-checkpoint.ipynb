{
 "cells": [
  {
   "cell_type": "markdown",
   "metadata": {},
   "source": [
    "This script reads a Excel file and finds if Column B matches Column A with or without specific keywords.\n",
    "Based on the result of this comparison, the Column A is written into either `match.txt` or `nomatch.txt`."
   ]
  },
  {
   "cell_type": "code",
   "execution_count": 1,
   "metadata": {
    "collapsed": true
   },
   "outputs": [],
   "source": [
    "import pandas as pd\n",
    "import re"
   ]
  },
  {
   "cell_type": "code",
   "execution_count": 2,
   "metadata": {
    "collapsed": true
   },
   "outputs": [],
   "source": [
    "keywordsList = [\"LLC\",\"Inc\"] # Keyword List"
   ]
  },
  {
   "cell_type": "code",
   "execution_count": 3,
   "metadata": {
    "collapsed": true
   },
   "outputs": [],
   "source": [
    "df = pd.read_excel(\"./PyThonTest.xlsx\",\"Sheet1\",header=None) #Sheet1 name of the Sheet in the Excel file"
   ]
  },
  {
   "cell_type": "code",
   "execution_count": 4,
   "metadata": {
    "collapsed": false
   },
   "outputs": [],
   "source": [
    "#functions\n",
    "def pattern_generator(keyword,x):\n",
    "    p = '(.*?)*('+ str(keyword)+')*\\s*('+str(x)+')\\s+('+ str(keyword)+')*'\n",
    "    #print(p)\n",
    "    return re.compile(p)\n",
    "    "
   ]
  },
  {
   "cell_type": "code",
   "execution_count": 5,
   "metadata": {
    "collapsed": false
   },
   "outputs": [],
   "source": [
    "def pattern_match(keyword,Col_A,Col_B):\n",
    "    keyword = str(keyword)\n",
    "    Col_A = str(Col_A)\n",
    "    Col_B = str(Col_B).strip(\" \")+\" \"\n",
    "    p = pattern_generator(keyword,Col_A)\n",
    "    if p.search(Col_B)!= None:\n",
    "        return True\n",
    "    else:\n",
    "        return False"
   ]
  },
  {
   "cell_type": "code",
   "execution_count": 6,
   "metadata": {
    "collapsed": true
   },
   "outputs": [],
   "source": [
    "match = open(\"match.txt\",'a')\n",
    "Nomatch = open(\"nomatch.txt\",'a')"
   ]
  },
  {
   "cell_type": "code",
   "execution_count": 7,
   "metadata": {
    "collapsed": false
   },
   "outputs": [],
   "source": [
    "Col_A = 0 #First Column\n",
    "\n",
    "Col_B = 1 #Second Column\n",
    "\n",
    "for i in range(df.shape[0]):\n",
    "\n",
    "    temp_n = 0\n",
    "    for keyword in keywordsList:\n",
    "\n",
    "        if pattern_match(keyword,df[Col_A].iat[i],df[Col_B].iat[i]):\n",
    "            match.write(str(df[Col_A].iat[i])+\"\\n\")\n",
    "            break\n",
    "                \n",
    "        else:\n",
    "            temp_n +=1\n",
    "            if temp_n == len(keywordsList):\n",
    "                Nomatch.write(str(df[Col_A].iat[i])+\"\\n\")\n",
    "            \n",
    "    "
   ]
  },
  {
   "cell_type": "code",
   "execution_count": 8,
   "metadata": {
    "collapsed": true
   },
   "outputs": [],
   "source": [
    "match.close()\n",
    "Nomatch.close()"
   ]
  },
  {
   "cell_type": "code",
   "execution_count": null,
   "metadata": {
    "collapsed": true
   },
   "outputs": [],
   "source": []
  }
 ],
 "metadata": {
  "kernelspec": {
   "display_name": "Python 3",
   "language": "python",
   "name": "python3"
  },
  "language_info": {
   "codemirror_mode": {
    "name": "ipython",
    "version": 3
   },
   "file_extension": ".py",
   "mimetype": "text/x-python",
   "name": "python",
   "nbconvert_exporter": "python",
   "pygments_lexer": "ipython3",
   "version": "3.5.1"
  }
 },
 "nbformat": 4,
 "nbformat_minor": 0
}
